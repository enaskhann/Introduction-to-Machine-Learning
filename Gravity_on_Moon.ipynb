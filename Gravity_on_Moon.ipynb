{
  "nbformat": 4,
  "nbformat_minor": 0,
  "metadata": {
    "colab": {
      "name": "Gravity on Moon.ipynb",
      "provenance": [],
      "collapsed_sections": [],
      "include_colab_link": true
    },
    "kernelspec": {
      "name": "python3",
      "display_name": "Python 3"
    },
    "language_info": {
      "name": "python"
    }
  },
  "cells": [
    {
      "cell_type": "markdown",
      "metadata": {
        "id": "view-in-github",
        "colab_type": "text"
      },
      "source": [
        "<a href=\"https://colab.research.google.com/github/enaskhann/Introduction-to-Machine-Learning/blob/main/Gravity_on_Moon.ipynb\" target=\"_parent\"><img src=\"https://colab.research.google.com/assets/colab-badge.svg\" alt=\"Open In Colab\"/></a>"
      ]
    },
    {
      "cell_type": "code",
      "metadata": {
        "colab": {
          "base_uri": "https://localhost:8080/",
          "height": 283
        },
        "id": "cx4pkfo5xeEv",
        "outputId": "02b44a6a-f9f3-4f9a-e001-43fa87e4e48f"
      },
      "source": [
        "#[Fictional Story] The astronauts on moon wanted to measure the value of gravity on the moon. The decide to throw a spanner \n",
        "#from different heights and measure the time needed to cover the distance and based on these values want to extract the value of \n",
        "#gravity on moon. The values might be slightly off due to human error and the (very thin) moon atmosphere. Use linear regression to \n",
        "#find the value of gravity on the moon.\n",
        "\n",
        "\n",
        "\n",
        "import matplotlib.pyplot as plt\n",
        "import numpy as np\n",
        "\n",
        "gmoon=9.8/6\n",
        "t=np.linspace(1,3,20)\n",
        "s=0.5*gmoon*t**2 + 0.05*np.random.randn(t.size)\n",
        "plt.plot(t,s,'.')"
      ],
      "execution_count": null,
      "outputs": [
        {
          "output_type": "execute_result",
          "data": {
            "text/plain": [
              "[<matplotlib.lines.Line2D at 0x7f48901c3150>]"
            ]
          },
          "metadata": {},
          "execution_count": 2
        },
        {
          "output_type": "display_data",
          "data": {
            "text/plain": [
              "<Figure size 432x288 with 1 Axes>"
            ],
            "image/png": "[encoded data removed]"
          },
          "metadata": {
            "needs_background": "light"
          }
        }
      ]
    },
    {
      "cell_type": "code",
      "source": [
        "#implement Linear Regression Solution with Polynomial basis\n",
        "\n",
        "#implement Linear Regression Solution with Polynomial basis\n",
        "#S = 0.5*g*^2\n",
        "\n",
        "# theta_hat. = inv(A^T A) (A^T y)\n",
        "\n",
        "# A= [1, x, x^2, x^3 ----, x^M]\n",
        "\n",
        "A=[]\n",
        "\n",
        "nbasis= 2\n",
        "\n",
        "for i in range(nbasis+1):\n",
        "  A.append(t**i)\n",
        "\n",
        "\n",
        "A=np.array(A)\n",
        "\n",
        "A=A.T\n",
        "print(A)\n",
        "\n",
        "theta = np.linalg.inv(A.T @ A) @ (A.T @ s)\n",
        "\n",
        "print(theta)\n",
        "\n",
        "\n",
        "shat = A @ theta\n",
        "\n",
        "plt.plot(t,s,t,shat)"
      ],
      "metadata": {
        "id": "7iYluaFRIh1t",
        "outputId": "9c5e5114-236a-4155-af91-463202548cca",
        "colab": {
          "base_uri": "https://localhost:8080/",
          "height": 675
        }
      },
      "execution_count": null,
      "outputs": [
        {
          "output_type": "stream",
          "name": "stdout",
          "text": [
            "[[1.         1.         1.        ]\n",
            " [1.         1.10526316 1.22160665]\n",
            " [1.         1.21052632 1.46537396]\n",
            " [1.         1.31578947 1.73130194]\n",
            " [1.         1.42105263 2.01939058]\n",
            " [1.         1.52631579 2.32963989]\n",
            " [1.         1.63157895 2.66204986]\n",
            " [1.         1.73684211 3.0166205 ]\n",
            " [1.         1.84210526 3.3933518 ]\n",
            " [1.         1.94736842 3.79224377]\n",
            " [1.         2.05263158 4.2132964 ]\n",
            " [1.         2.15789474 4.6565097 ]\n",
            " [1.         2.26315789 5.12188366]\n",
            " [1.         2.36842105 5.60941828]\n",
            " [1.         2.47368421 6.11911357]\n",
            " [1.         2.57894737 6.65096953]\n",
            " [1.         2.68421053 7.20498615]\n",
            " [1.         2.78947368 7.78116343]\n",
            " [1.         2.89473684 8.37950139]\n",
            " [1.         3.         9.        ]]\n",
            "[ 0.03385228 -0.00305066  0.80904143]\n"
          ]
        },
        {
          "output_type": "execute_result",
          "data": {
            "text/plain": [
              "[<matplotlib.lines.Line2D at 0x7f488dc14250>,\n",
              " <matplotlib.lines.Line2D at 0x7f488dc14490>]"
            ]
          },
          "metadata": {},
          "execution_count": 3
        },
        {
          "output_type": "display_data",
          "data": {
            "text/plain": [
              "<Figure size 432x288 with 1 Axes>"
            ],
            "image/png": "[encoded data removed]"
          },
          "metadata": {
            "needs_background": "light"
          }
        }
      ]
    },
    {
      "cell_type": "code",
      "source": [
        "import sklearn.linear_model as lm\n",
        "import sklearn.preprocessing as preprocessing\n",
        "import sklearn.pipeline as pipeline\n",
        "\n",
        "\n",
        "pipeline = pipeline.Pipeline([ ('basis', preprocessing.PolynomialFeatures(2)), ('model', lm.LinearRegression())])\n",
        "pipeline.fit(t.reshape(-1,1),s.reshape(-1,1))"
      ],
      "metadata": {
        "colab": {
          "base_uri": "https://localhost:8080/"
        },
        "id": "0fcV6ZuAIm10",
        "outputId": "427cbbad-3582-477b-8583-353df98c855f"
      },
      "execution_count": null,
      "outputs": [
        {
          "output_type": "execute_result",
          "data": {
            "text/plain": [
              "Pipeline(steps=[('basis', PolynomialFeatures()), ('model', LinearRegression())])"
            ]
          },
          "metadata": {},
          "execution_count": 17
        }
      ]
    },
    {
      "cell_type": "code",
      "source": [
        "shat=pipeline.predict(t.reshape(-1,1))\n",
        "plt.plot(t,s,t,shat)"
      ],
      "metadata": {
        "colab": {
          "base_uri": "https://localhost:8080/",
          "height": 301
        },
        "id": "8jAfVCoxJUu_",
        "outputId": "8d5f4be4-5f1d-4fe7-9f07-8248730ed2fc"
      },
      "execution_count": null,
      "outputs": [
        {
          "output_type": "execute_result",
          "data": {
            "text/plain": [
              "[<matplotlib.lines.Line2D at 0x7f7dd98c5150>,\n",
              " <matplotlib.lines.Line2D at 0x7f7dd925e110>]"
            ]
          },
          "metadata": {},
          "execution_count": 18
        },
        {
          "output_type": "display_data",
          "data": {
            "text/plain": [
              "<Figure size 432x288 with 1 Axes>"
            ],
            "image/png": "[encoded data removed]"
          },
          "metadata": {
            "needs_background": "light"
          }
        }
      ]
    },
    {
      "cell_type": "code",
      "source": [
        "pipeline['model'].coef_"
      ],
      "metadata": {
        "colab": {
          "base_uri": "https://localhost:8080/"
        },
        "id": "DOVYdQJ4Kpoa",
        "outputId": "d79ed320-5cab-4895-813f-ef59320add18"
      },
      "execution_count": null,
      "outputs": [
        {
          "output_type": "execute_result",
          "data": {
            "text/plain": [
              "array([[ 0.        , -0.03460066,  0.82900878]])"
            ]
          },
          "metadata": {},
          "execution_count": 20
        }
      ]
    }
  ]
}