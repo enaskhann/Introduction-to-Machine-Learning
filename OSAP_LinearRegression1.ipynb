{
  "nbformat": 4,
  "nbformat_minor": 0,
  "metadata": {
    "colab": {
      "name": "OSAP_LinearRegression1.ipynb",
      "provenance": [],
      "collapsed_sections": [],
      "include_colab_link": true
    },
    "kernelspec": {
      "name": "python3",
      "display_name": "Python 3"
    },
    "language_info": {
      "name": "python"
    }
  },
  "cells": [
    {
      "cell_type": "markdown",
      "metadata": {
        "id": "view-in-github",
        "colab_type": "text"
      },
      "source": [
        "<a href=\"https://colab.research.google.com/github/enaskhann/Introduction-to-Machine-Learning/blob/main/OSAP_LinearRegression1.ipynb\" target=\"_parent\"><img src=\"https://colab.research.google.com/assets/colab-badge.svg\" alt=\"Open In Colab\"/></a>"
      ]
    },
    {
      "cell_type": "markdown",
      "source": [
        "This example is motivated from an example where a carefully chose snapshot of data was used to prove that global temperatures are not increasing with time. \n",
        "\n",
        "You will solve linear regression (ax+b) for two snapshots of data to see if there is an average increase of tempearture with time or not."
      ],
      "metadata": {
        "id": "zyhxoD34plpu"
      }
    },
    {
      "cell_type": "code",
      "execution_count": null,
      "metadata": {
        "id": "Dtn5afpwICOM"
      },
      "outputs": [],
      "source": [
        "import pandas as pd\n",
        "import numpy as np\n",
        "import matplotlib.pyplot as plt"
      ]
    },
    {
      "cell_type": "code",
      "source": [
        "#data from: https://www.jpl.nasa.gov/edu/teach/activity/graphing-global-temperature-trends/\n",
        "!wget -O globalTemp.csv https://www.dropbox.com/s/w5n763mnroln66v/globalTemp.csv?dl=0"
      ],
      "metadata": {
        "colab": {
          "base_uri": "https://localhost:8080/"
        },
        "id": "ffjTwZt8INlB",
        "outputId": "a6f981f4-c28f-4836-d68c-6a99562012dd"
      },
      "execution_count": null,
      "outputs": [
        {
          "output_type": "stream",
          "name": "stdout",
          "text": [
            "--2022-01-18 09:41:26--  https://www.dropbox.com/s/w5n763mnroln66v/globalTemp.csv?dl=0\n",
            "Resolving www.dropbox.com (www.dropbox.com)... 162.125.71.18, 2620:100:6021:18::a27d:4112\n",
            "Connecting to www.dropbox.com (www.dropbox.com)|162.125.71.18|:443... connected.\n",
            "HTTP request sent, awaiting response... 301 Moved Permanently\n",
            "Location: /s/raw/w5n763mnroln66v/globalTemp.csv [following]\n",
            "--2022-01-18 09:41:27--  https://www.dropbox.com/s/raw/w5n763mnroln66v/globalTemp.csv\n",
            "Reusing existing connection to www.dropbox.com:443.\n",
            "HTTP request sent, awaiting response... 302 Found\n",
            "Location: https://uc7b662650ea9f0f5ec621993c95.dl-eu.dropboxusercontent.com/cd/0/inline/BeBwUydFXVVco6d1tsoEVWDUx9DEsIhsOazLBFb2hXS30yvI8heEJYHXGDZQPGrnXBtvgykNT0H_awjUoSGgdPDo-9jHL20yCLV585OjzOrhtVKeQVAJD1X7XShZGSxEIDOkQvj86rAGgRBo8hu9G9dq/file# [following]\n",
            "--2022-01-18 09:41:27--  https://uc7b662650ea9f0f5ec621993c95.dl-eu.dropboxusercontent.com/cd/0/inline/BeBwUydFXVVco6d1tsoEVWDUx9DEsIhsOazLBFb2hXS30yvI8heEJYHXGDZQPGrnXBtvgykNT0H_awjUoSGgdPDo-9jHL20yCLV585OjzOrhtVKeQVAJD1X7XShZGSxEIDOkQvj86rAGgRBo8hu9G9dq/file\n",
            "Resolving uc7b662650ea9f0f5ec621993c95.dl-eu.dropboxusercontent.com (uc7b662650ea9f0f5ec621993c95.dl-eu.dropboxusercontent.com)... 162.125.65.15, 2620:100:6021:15::a27d:410f\n",
            "Connecting to uc7b662650ea9f0f5ec621993c95.dl-eu.dropboxusercontent.com (uc7b662650ea9f0f5ec621993c95.dl-eu.dropboxusercontent.com)|162.125.65.15|:443... connected.\n",
            "HTTP request sent, awaiting response... 200 OK\n",
            "Length: 2950 (2.9K) [text/plain]\n",
            "Saving to: ‘globalTemp.csv’\n",
            "\n",
            "globalTemp.csv      100%[===================>]   2.88K  --.-KB/s    in 0s      \n",
            "\n",
            "2022-01-18 09:41:28 (596 MB/s) - ‘globalTemp.csv’ saved [2950/2950]\n",
            "\n"
          ]
        }
      ]
    },
    {
      "cell_type": "code",
      "source": [
        "df=pd.read_csv('globalTemp.csv')"
      ],
      "metadata": {
        "id": "jv1hb3IWIdUm"
      },
      "execution_count": null,
      "outputs": []
    },
    {
      "cell_type": "code",
      "source": [
        "x = df['Year'].to_numpy()\n",
        "y = df['Actual Temp'].to_numpy()"
      ],
      "metadata": {
        "id": "wjtbGAitIncx"
      },
      "execution_count": null,
      "outputs": []
    },
    {
      "cell_type": "code",
      "source": [
        "#linear Regression here"
      ],
      "metadata": {
        "id": "-j6VCeWNmIjL"
      },
      "execution_count": null,
      "outputs": []
    },
    {
      "cell_type": "code",
      "source": [
        "df=df[(df['Year']>1943) & (df['Year']<1975)]\n",
        "x = df['Year'].to_numpy()\n",
        "y = df['Actual Temp'].to_numpy()"
      ],
      "metadata": {
        "id": "T2mwBDMeIfBX"
      },
      "execution_count": null,
      "outputs": []
    },
    {
      "cell_type": "code",
      "source": [
        "#linear Regression here"
      ],
      "metadata": {
        "id": "7uBvmzeslxaN"
      },
      "execution_count": null,
      "outputs": []
    }
  ]
}