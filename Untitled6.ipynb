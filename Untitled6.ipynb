{
  "cells": [
    {
      "cell_type": "markdown",
      "metadata": {
        "id": "view-in-github",
        "colab_type": "text"
      },
      "source": [
        "<a href=\"https://colab.research.google.com/github/enaskhann/Introduction-to-Machine-Learning/blob/main/Untitled6.ipynb\" target=\"_parent\"><img src=\"https://colab.research.google.com/assets/colab-badge.svg\" alt=\"Open In Colab\"/></a>"
      ]
    },
    {
      "cell_type": "markdown",
      "metadata": {
        "id": "nTTxE8m7-Zlu"
      },
      "source": [
        "# **Importing The Used Libraries**"
      ]
    },
    {
      "cell_type": "code",
      "execution_count": null,
      "metadata": {
        "id": "rP47goyOc78t"
      },
      "outputs": [],
      "source": [
        "import numpy as np\n",
        "import pandas as pd\n",
        "import matplotlib.pyplot as plt\n",
        "import seaborn as sns\n",
        "import cv2 as cv\n",
        "from tqdm import tqdm\n",
        "import random\n",
        "import os\n",
        "\n",
        "from keras.models import Sequential\n",
        "from keras.layers import Dense, Flatten, Conv2D, MaxPool2D, Dropout, Activation\n",
        "from keras import optimizers\n",
        "from keras_preprocessing.image import ImageDataGenerator\n",
        "from keras.models import load_model\n",
        "from tensorflow.keras.models import Sequential\n",
        "\n",
        "import tensorflow as tf\n",
        "from tensorflow import keras\n",
        "from tensorflow.keras import layers\n",
        "import keras\n",
        "import keras.utils\n",
        "from keras import utils as np_utils\n",
        "from tensorflow.keras.models import Sequential\n",
        "from tensorflow.keras.layers import Dense, Flatten, Conv2D, MaxPool2D, Dropout\n",
        "from tensorflow.keras.optimizers import SGD, Adam\n",
        "from tensorflow.keras.callbacks import ReduceLROnPlateau, EarlyStopping\n",
        "\n",
        "\n",
        "\n",
        "\n"
      ]
    },
    {
      "cell_type": "markdown",
      "metadata": {
        "id": "-nnbrloR-sUI"
      },
      "source": [
        "#**Importing and Reading The Dataset**"
      ]
    },
    {
      "cell_type": "markdown",
      "metadata": {
        "id": "cTU3IwsM-101"
      },
      "source": [
        "## Reading An Image From Image Collection"
      ]
    },
    {
      "cell_type": "code",
      "execution_count": null,
      "metadata": {
        "colab": {
          "base_uri": "https://localhost:8080/",
          "height": 269
        },
        "id": "PbADibtneWGj",
        "outputId": "308e00c0-5fc4-4db9-d1b3-f05849c9bf37"
      },
      "outputs": [
        {
          "data": {
            "image/png": "[encoded data removed]",
            "text/plain": [
              "<Figure size 432x288 with 1 Axes>"
            ]
          },
          "metadata": {},
          "output_type": "display_data"
        }
      ],
      "source": [
        "\n",
        "img = cv.imread('/content/project/Img/img001-001.png' )\n",
        "plt.imshow(img)\n",
        "plt.show()\n",
        "\n"
      ]
    },
    {
      "cell_type": "markdown",
      "metadata": {
        "id": "XxWDl_Tv_Cf-"
      },
      "source": [
        "## Reading The CSV Dataset File"
      ]
    },
    {
      "cell_type": "code",
      "execution_count": null,
      "metadata": {
        "colab": {
          "base_uri": "https://localhost:8080/",
          "height": 206
        },
        "id": "GZmwWkjretKw",
        "outputId": "565d4f23-33f2-47c8-8e11-7e40fd3f20cc"
      },
      "outputs": [
        {
          "data": {
            "text/html": [
              "\n",
              "  <div id=\"df-20c3c25f-16fa-4abe-b7c8-5277eae00a21\">\n",
              "    <div class=\"colab-df-container\">\n",
              "      <div>\n",
              "<style scoped>\n",
              "    .dataframe tbody tr th:only-of-type {\n",
              "        vertical-align: middle;\n",
              "    }\n",
              "\n",
              "    .dataframe tbody tr th {\n",
              "        vertical-align: top;\n",
              "    }\n",
              "\n",
              "    .dataframe thead th {\n",
              "        text-align: right;\n",
              "    }\n",
              "</style>\n",
              "<table border=\"1\" class=\"dataframe\">\n",
              "  <thead>\n",
              "    <tr style=\"text-align: right;\">\n",
              "      <th></th>\n",
              "      <th>image</th>\n",
              "      <th>label</th>\n",
              "    </tr>\n",
              "  </thead>\n",
              "  <tbody>\n",
              "    <tr>\n",
              "      <th>0</th>\n",
              "      <td>Img/img001-001.png</td>\n",
              "      <td>0</td>\n",
              "    </tr>\n",
              "    <tr>\n",
              "      <th>1</th>\n",
              "      <td>Img/img001-002.png</td>\n",
              "      <td>0</td>\n",
              "    </tr>\n",
              "    <tr>\n",
              "      <th>2</th>\n",
              "      <td>Img/img001-003.png</td>\n",
              "      <td>0</td>\n",
              "    </tr>\n",
              "    <tr>\n",
              "      <th>3</th>\n",
              "      <td>Img/img001-004.png</td>\n",
              "      <td>0</td>\n",
              "    </tr>\n",
              "    <tr>\n",
              "      <th>4</th>\n",
              "      <td>Img/img001-005.png</td>\n",
              "      <td>0</td>\n",
              "    </tr>\n",
              "  </tbody>\n",
              "</table>\n",
              "</div>\n",
              "      <button class=\"colab-df-convert\" onclick=\"convertToInteractive('df-20c3c25f-16fa-4abe-b7c8-5277eae00a21')\"\n",
              "              title=\"Convert this dataframe to an interactive table.\"\n",
              "              style=\"display:none;\">\n",
              "        \n",
              "  <svg xmlns=\"http://www.w3.org/2000/svg\" height=\"24px\"viewBox=\"0 0 24 24\"\n",
              "       width=\"24px\">\n",
              "    <path d=\"M0 0h24v24H0V0z\" fill=\"none\"/>\n",
              "    <path d=\"M18.56 5.44l.94 2.06.94-2.06 2.06-.94-2.06-.94-.94-2.06-.94 2.06-2.06.94zm-11 1L8.5 8.5l.94-2.06 2.06-.94-2.06-.94L8.5 2.5l-.94 2.06-2.06.94zm10 10l.94 2.06.94-2.06 2.06-.94-2.06-.94-.94-2.06-.94 2.06-2.06.94z\"/><path d=\"M17.41 7.96l-1.37-1.37c-.4-.4-.92-.59-1.43-.59-.52 0-1.04.2-1.43.59L10.3 9.45l-7.72 7.72c-.78.78-.78 2.05 0 2.83L4 21.41c.39.39.9.59 1.41.59.51 0 1.02-.2 1.41-.59l7.78-7.78 2.81-2.81c.8-.78.8-2.07 0-2.86zM5.41 20L4 18.59l7.72-7.72 1.47 1.35L5.41 20z\"/>\n",
              "  </svg>\n",
              "      </button>\n",
              "      \n",
              "  <style>\n",
              "    .colab-df-container {\n",
              "      display:flex;\n",
              "      flex-wrap:wrap;\n",
              "      gap: 12px;\n",
              "    }\n",
              "\n",
              "    .colab-df-convert {\n",
              "      background-color: #E8F0FE;\n",
              "      border: none;\n",
              "      border-radius: 50%;\n",
              "      cursor: pointer;\n",
              "      display: none;\n",
              "      fill: #1967D2;\n",
              "      height: 32px;\n",
              "      padding: 0 0 0 0;\n",
              "      width: 32px;\n",
              "    }\n",
              "\n",
              "    .colab-df-convert:hover {\n",
              "      background-color: #E2EBFA;\n",
              "      box-shadow: 0px 1px 2px rgba(60, 64, 67, 0.3), 0px 1px 3px 1px rgba(60, 64, 67, 0.15);\n",
              "      fill: #174EA6;\n",
              "    }\n",
              "\n",
              "    [theme=dark] .colab-df-convert {\n",
              "      background-color: #3B4455;\n",
              "      fill: #D2E3FC;\n",
              "    }\n",
              "\n",
              "    [theme=dark] .colab-df-convert:hover {\n",
              "      background-color: #434B5C;\n",
              "      box-shadow: 0px 1px 3px 1px rgba(0, 0, 0, 0.15);\n",
              "      filter: drop-shadow(0px 1px 2px rgba(0, 0, 0, 0.3));\n",
              "      fill: #FFFFFF;\n",
              "    }\n",
              "  </style>\n",
              "\n",
              "      <script>\n",
              "        const buttonEl =\n",
              "          document.querySelector('#df-20c3c25f-16fa-4abe-b7c8-5277eae00a21 button.colab-df-convert');\n",
              "        buttonEl.style.display =\n",
              "          google.colab.kernel.accessAllowed ? 'block' : 'none';\n",
              "\n",
              "        async function convertToInteractive(key) {\n",
              "          const element = document.querySelector('#df-20c3c25f-16fa-4abe-b7c8-5277eae00a21');\n",
              "          const dataTable =\n",
              "            await google.colab.kernel.invokeFunction('convertToInteractive',\n",
              "                                                     [key], {});\n",
              "          if (!dataTable) return;\n",
              "\n",
              "          const docLinkHtml = 'Like what you see? Visit the ' +\n",
              "            '<a target=\"_blank\" href=https://colab.research.google.com/notebooks/data_table.ipynb>data table notebook</a>'\n",
              "            + ' to learn more about interactive tables.';\n",
              "          element.innerHTML = '';\n",
              "          dataTable['output_type'] = 'display_data';\n",
              "          await google.colab.output.renderOutput(dataTable, element);\n",
              "          const docLink = document.createElement('div');\n",
              "          docLink.innerHTML = docLinkHtml;\n",
              "          element.appendChild(docLink);\n",
              "        }\n",
              "      </script>\n",
              "    </div>\n",
              "  </div>\n",
              "  "
            ],
            "text/plain": [
              "                image label\n",
              "0  Img/img001-001.png     0\n",
              "1  Img/img001-002.png     0\n",
              "2  Img/img001-003.png     0\n",
              "3  Img/img001-004.png     0\n",
              "4  Img/img001-005.png     0"
            ]
          },
          "execution_count": 28,
          "metadata": {},
          "output_type": "execute_result"
        }
      ],
      "source": [
        "df = pd.read_csv('/content/project/english.csv')\n",
        "df.head()"
      ]
    },
    {
      "cell_type": "markdown",
      "metadata": {
        "id": "sFp5wCMK_dgc"
      },
      "source": [
        "# **Processing The Data**"
      ]
    },
    {
      "cell_type": "markdown",
      "metadata": {
        "id": "YbvfbM69_v-b"
      },
      "source": [
        "### Define Labels"
      ]
    },
    {
      "cell_type": "code",
      "execution_count": null,
      "metadata": {
        "colab": {
          "base_uri": "https://localhost:8080/"
        },
        "id": "So7C-S1TexUQ",
        "outputId": "94769259-3ac3-483b-dd94-e2b1fa653c86"
      },
      "outputs": [
        {
          "name": "stdout",
          "output_type": "stream",
          "text": [
            "\n",
            "The Classes:\n",
            " ['0' '1' '2' '3' '4' '5' '6' '7' '8' '9' 'A' 'B' 'C' 'D' 'E' 'F' 'G' 'H'\n",
            " 'I' 'J' 'K' 'L' 'M' 'N' 'O' 'P' 'Q' 'R' 'S' 'T' 'U' 'V' 'W' 'X' 'Y' 'Z'\n",
            " 'a' 'b' 'c' 'd' 'e' 'f' 'g' 'h' 'i' 'j' 'k' 'l' 'm' 'n' 'o' 'p' 'q' 'r'\n",
            " 's' 't' 'u' 'v' 'w' 'x' 'y' 'z'] \n"
          ]
        }
      ],
      "source": [
        "classes = df['label'].unique()\n",
        "print(f'\\nThe Classes:\\n {classes} ')"
      ]
    },
    {
      "cell_type": "markdown",
      "metadata": {
        "id": "1WYrPF8k_3f_"
      },
      "source": [
        "### Mapping Labels with Images and Splitting The Dataset"
      ]
    },
    {
      "cell_type": "code",
      "execution_count": null,
      "metadata": {
        "colab": {
          "base_uri": "https://localhost:8080/",
          "height": 424
        },
        "id": "hEVRz88De49K",
        "outputId": "36bd4c02-2bf7-454a-b855-d76c116c6f2e"
      },
      "outputs": [
        {
          "data": {
            "text/html": [
              "\n",
              "  <div id=\"df-af81b34c-a2f3-4078-a768-1bcf60b5e901\">\n",
              "    <div class=\"colab-df-container\">\n",
              "      <div>\n",
              "<style scoped>\n",
              "    .dataframe tbody tr th:only-of-type {\n",
              "        vertical-align: middle;\n",
              "    }\n",
              "\n",
              "    .dataframe tbody tr th {\n",
              "        vertical-align: top;\n",
              "    }\n",
              "\n",
              "    .dataframe thead th {\n",
              "        text-align: right;\n",
              "    }\n",
              "</style>\n",
              "<table border=\"1\" class=\"dataframe\">\n",
              "  <thead>\n",
              "    <tr style=\"text-align: right;\">\n",
              "      <th></th>\n",
              "      <th>image</th>\n",
              "      <th>label</th>\n",
              "    </tr>\n",
              "  </thead>\n",
              "  <tbody>\n",
              "    <tr>\n",
              "      <th>0</th>\n",
              "      <td>Img/img055-039.png</td>\n",
              "      <td>s</td>\n",
              "    </tr>\n",
              "    <tr>\n",
              "      <th>1</th>\n",
              "      <td>Img/img004-041.png</td>\n",
              "      <td>3</td>\n",
              "    </tr>\n",
              "    <tr>\n",
              "      <th>2</th>\n",
              "      <td>Img/img055-047.png</td>\n",
              "      <td>s</td>\n",
              "    </tr>\n",
              "    <tr>\n",
              "      <th>3</th>\n",
              "      <td>Img/img003-023.png</td>\n",
              "      <td>2</td>\n",
              "    </tr>\n",
              "    <tr>\n",
              "      <th>4</th>\n",
              "      <td>Img/img034-041.png</td>\n",
              "      <td>X</td>\n",
              "    </tr>\n",
              "    <tr>\n",
              "      <th>...</th>\n",
              "      <td>...</td>\n",
              "      <td>...</td>\n",
              "    </tr>\n",
              "    <tr>\n",
              "      <th>495</th>\n",
              "      <td>Img/img062-023.png</td>\n",
              "      <td>z</td>\n",
              "    </tr>\n",
              "    <tr>\n",
              "      <th>496</th>\n",
              "      <td>Img/img037-018.png</td>\n",
              "      <td>a</td>\n",
              "    </tr>\n",
              "    <tr>\n",
              "      <th>497</th>\n",
              "      <td>Img/img010-034.png</td>\n",
              "      <td>9</td>\n",
              "    </tr>\n",
              "    <tr>\n",
              "      <th>498</th>\n",
              "      <td>Img/img042-050.png</td>\n",
              "      <td>f</td>\n",
              "    </tr>\n",
              "    <tr>\n",
              "      <th>499</th>\n",
              "      <td>Img/img009-047.png</td>\n",
              "      <td>8</td>\n",
              "    </tr>\n",
              "  </tbody>\n",
              "</table>\n",
              "<p>495 rows × 2 columns</p>\n",
              "</div>\n",
              "      <button class=\"colab-df-convert\" onclick=\"convertToInteractive('df-af81b34c-a2f3-4078-a768-1bcf60b5e901')\"\n",
              "              title=\"Convert this dataframe to an interactive table.\"\n",
              "              style=\"display:none;\">\n",
              "        \n",
              "  <svg xmlns=\"http://www.w3.org/2000/svg\" height=\"24px\"viewBox=\"0 0 24 24\"\n",
              "       width=\"24px\">\n",
              "    <path d=\"M0 0h24v24H0V0z\" fill=\"none\"/>\n",
              "    <path d=\"M18.56 5.44l.94 2.06.94-2.06 2.06-.94-2.06-.94-.94-2.06-.94 2.06-2.06.94zm-11 1L8.5 8.5l.94-2.06 2.06-.94-2.06-.94L8.5 2.5l-.94 2.06-2.06.94zm10 10l.94 2.06.94-2.06 2.06-.94-2.06-.94-.94-2.06-.94 2.06-2.06.94z\"/><path d=\"M17.41 7.96l-1.37-1.37c-.4-.4-.92-.59-1.43-.59-.52 0-1.04.2-1.43.59L10.3 9.45l-7.72 7.72c-.78.78-.78 2.05 0 2.83L4 21.41c.39.39.9.59 1.41.59.51 0 1.02-.2 1.41-.59l7.78-7.78 2.81-2.81c.8-.78.8-2.07 0-2.86zM5.41 20L4 18.59l7.72-7.72 1.47 1.35L5.41 20z\"/>\n",
              "  </svg>\n",
              "      </button>\n",
              "      \n",
              "  <style>\n",
              "    .colab-df-container {\n",
              "      display:flex;\n",
              "      flex-wrap:wrap;\n",
              "      gap: 12px;\n",
              "    }\n",
              "\n",
              "    .colab-df-convert {\n",
              "      background-color: #E8F0FE;\n",
              "      border: none;\n",
              "      border-radius: 50%;\n",
              "      cursor: pointer;\n",
              "      display: none;\n",
              "      fill: #1967D2;\n",
              "      height: 32px;\n",
              "      padding: 0 0 0 0;\n",
              "      width: 32px;\n",
              "    }\n",
              "\n",
              "    .colab-df-convert:hover {\n",
              "      background-color: #E2EBFA;\n",
              "      box-shadow: 0px 1px 2px rgba(60, 64, 67, 0.3), 0px 1px 3px 1px rgba(60, 64, 67, 0.15);\n",
              "      fill: #174EA6;\n",
              "    }\n",
              "\n",
              "    [theme=dark] .colab-df-convert {\n",
              "      background-color: #3B4455;\n",
              "      fill: #D2E3FC;\n",
              "    }\n",
              "\n",
              "    [theme=dark] .colab-df-convert:hover {\n",
              "      background-color: #434B5C;\n",
              "      box-shadow: 0px 1px 3px 1px rgba(0, 0, 0, 0.15);\n",
              "      filter: drop-shadow(0px 1px 2px rgba(0, 0, 0, 0.3));\n",
              "      fill: #FFFFFF;\n",
              "    }\n",
              "  </style>\n",
              "\n",
              "      <script>\n",
              "        const buttonEl =\n",
              "          document.querySelector('#df-af81b34c-a2f3-4078-a768-1bcf60b5e901 button.colab-df-convert');\n",
              "        buttonEl.style.display =\n",
              "          google.colab.kernel.accessAllowed ? 'block' : 'none';\n",
              "\n",
              "        async function convertToInteractive(key) {\n",
              "          const element = document.querySelector('#df-af81b34c-a2f3-4078-a768-1bcf60b5e901');\n",
              "          const dataTable =\n",
              "            await google.colab.kernel.invokeFunction('convertToInteractive',\n",
              "                                                     [key], {});\n",
              "          if (!dataTable) return;\n",
              "\n",
              "          const docLinkHtml = 'Like what you see? Visit the ' +\n",
              "            '<a target=\"_blank\" href=https://colab.research.google.com/notebooks/data_table.ipynb>data table notebook</a>'\n",
              "            + ' to learn more about interactive tables.';\n",
              "          element.innerHTML = '';\n",
              "          dataTable['output_type'] = 'display_data';\n",
              "          await google.colab.output.renderOutput(dataTable, element);\n",
              "          const docLink = document.createElement('div');\n",
              "          docLink.innerHTML = docLinkHtml;\n",
              "          element.appendChild(docLink);\n",
              "        }\n",
              "      </script>\n",
              "    </div>\n",
              "  </div>\n",
              "  "
            ],
            "text/plain": [
              "                  image label\n",
              "0    Img/img055-039.png     s\n",
              "1    Img/img004-041.png     3\n",
              "2    Img/img055-047.png     s\n",
              "3    Img/img003-023.png     2\n",
              "4    Img/img034-041.png     X\n",
              "..                  ...   ...\n",
              "495  Img/img062-023.png     z\n",
              "496  Img/img037-018.png     a\n",
              "497  Img/img010-034.png     9\n",
              "498  Img/img042-050.png     f\n",
              "499  Img/img009-047.png     8\n",
              "\n",
              "[495 rows x 2 columns]"
            ]
          },
          "execution_count": 30,
          "metadata": {},
          "output_type": "execute_result"
        }
      ],
      "source": [
        "# Define the data path\n",
        "DATADIR = \"/content/project\"         \n",
        "# Read the csv file\n",
        "dataset = pd.read_csv(DATADIR + '/english.csv')\n",
        "# Get a 500 random values/rows\n",
        "rand = random.sample(range(len(dataset)), 500)\n",
        "# Make the random 500 as a validation data\n",
        "validation_set = pd.DataFrame(dataset.iloc[rand, :].values, columns=['image', 'label'])\n",
        "# Drop the 500 from the orignal data set\n",
        "dataset.drop(rand, inplace=True)\n",
        "# Get a 5 random rows/values from the validation set\n",
        "rand = random.sample(range(len(validation_set)), 5)\n",
        "# from the 5 random Create the test set \n",
        "test_set = pd.DataFrame(validation_set.iloc[rand, :].values, columns=['image', 'label'])\n",
        "# Drop the 5 from the validation set\n",
        "validation_set.drop(rand, inplace=True)\n",
        "# Show the validation set as a example\n",
        "validation_set"
      ]
    },
    {
      "cell_type": "code",
      "execution_count": null,
      "metadata": {
        "colab": {
          "base_uri": "https://localhost:8080/"
        },
        "id": "5McquI4C838G",
        "outputId": "73168708-5d77-4ac3-9eef-8729927adc9e"
      },
      "outputs": [
        {
          "name": "stdout",
          "output_type": "stream",
          "text": [
            "Drive already mounted at /content/drive; to attempt to forcibly remount, call drive.mount(\"/content/drive\", force_remount=True).\n"
          ]
        }
      ],
      "source": [
        "from google.colab import drive\n",
        "drive.mount('/content/drive')"
      ]
    },
    {
      "cell_type": "code",
      "execution_count": null,
      "metadata": {
        "colab": {
          "base_uri": "https://localhost:8080/"
        },
        "id": "f73aIQ81fhWo",
        "outputId": "8d46aab9-0589-4d52-8a9f-02d1683b039e"
      },
      "outputs": [
        {
          "name": "stdout",
          "output_type": "stream",
          "text": [
            "Found 2497 validated image filenames belonging to 62 classes.\n",
            "Found 438 validated image filenames belonging to 62 classes.\n",
            "Found 4 validated image filenames belonging to 4 classes.\n"
          ]
        },
        {
          "name": "stderr",
          "output_type": "stream",
          "text": [
            "/usr/local/lib/python3.8/dist-packages/keras_preprocessing/image/dataframe_iterator.py:279: UserWarning: Found 413 invalid image filename(s) in x_col=\"image\". These filename(s) will be ignored.\n",
            "  warnings.warn(\n",
            "/usr/local/lib/python3.8/dist-packages/keras_preprocessing/image/dataframe_iterator.py:279: UserWarning: Found 57 invalid image filename(s) in x_col=\"image\". These filename(s) will be ignored.\n",
            "  warnings.warn(\n",
            "/usr/local/lib/python3.8/dist-packages/keras_preprocessing/image/dataframe_iterator.py:279: UserWarning: Found 1 invalid image filename(s) in x_col=\"image\". These filename(s) will be ignored.\n",
            "  warnings.warn(\n"
          ]
        }
      ],
      "source": [
        "train_data_generator = ImageDataGenerator(rescale=1/255, shear_range=0.2, zoom_range=0.2)\n",
        "data_generator = ImageDataGenerator(rescale=1/255)\n",
        "training_data_frame = train_data_generator.flow_from_dataframe(dataframe=dataset, \n",
        "                                                               directory=DATADIR,\n",
        "                                                               x_col='image',y_col='label',\n",
        "                                                               target_size=(64, 64),\n",
        "                                                               class_mode='categorical')\n",
        "validation_data_frame = data_generator.flow_from_dataframe(dataframe=validation_set,\n",
        "                                                           directory=DATADIR,\n",
        "                                                           x_col='image',y_col='label',\n",
        "                                                           target_size=(64, 64),\n",
        "                                                           class_mode='categorical')\n",
        "test_data_frame = data_generator.flow_from_dataframe(dataframe=test_set,\n",
        "                                                     directory=DATADIR, \n",
        "                                                     x_col='image', y_col='label', \n",
        "                                                     target_size=(64, 64), \n",
        "                                                     class_mode='categorical', \n",
        "                                                     shuffle=False)"
      ]
    },
    {
      "cell_type": "markdown",
      "metadata": {
        "id": "nJrc8ChDA0Sm"
      },
      "source": [
        "# Building The Model"
      ]
    },
    {
      "cell_type": "code",
      "execution_count": null,
      "metadata": {
        "id": "vM2mshDOfuy1"
      },
      "outputs": [],
      "source": [
        "# Define the model\n",
        "model = Sequential()\n",
        "\n",
        "# Add first Convolutional Layer\n",
        "model.add(Conv2D(32, (3, 3), padding='same',\n",
        "                 input_shape=(64,64,3)))\n",
        "# Add a relu Activation \n",
        "model.add(Activation('relu'))\n",
        "# Add a second Convolutional Layer\n",
        "model.add(Conv2D(32, (3, 3)))\n",
        "# Add a relu Activation \n",
        "model.add(Activation('relu'))\n",
        "# Add a Max pooling layer\n",
        "model.add(MaxPool2D(pool_size=(2, 2)))\n",
        "# Add a Dropout layer\n",
        "model.add(Dropout(0.25))\n"
      ]
    },
    {
      "cell_type": "code",
      "execution_count": null,
      "metadata": {
        "id": "OP1dxlxzf-ua"
      },
      "outputs": [],
      "source": [
        "# Add third Convolutional Layer\n",
        "model.add(Conv2D(64, (3, 3), padding='same'))\n",
        "# Add a relu Activation \n",
        "model.add(Activation('relu'))\n",
        "# Add Fourth Convolutional Layer\n",
        "model.add(Conv2D(64, (3, 3)))\n",
        "# Add a relu Activation \n",
        "model.add(Activation('relu'))\n",
        "# Add a Max pooling layer\n",
        "model.add(MaxPool2D(pool_size=(2, 2)))\n",
        "# Add a Dropout Layer\n",
        "model.add(Dropout(0.25))\n",
        "\n",
        "# Add Fifth Convolutional Layer\n",
        "model.add(Conv2D(64, (3, 3), padding='same'))\n",
        "# Add a Activation Layer\n",
        "model.add(Activation('relu'))\n",
        "# Add a sixth Convolutional Layer\n",
        "model.add(Conv2D(64, (3, 3)))\n",
        "# Add a Activation Layer\n",
        "model.add(Activation('relu'))\n",
        "# Add a Max Pooling Layer\n",
        "model.add(MaxPool2D(pool_size=(2, 2)))\n",
        "# Add a Dropout Layer\n",
        "model.add(Dropout(0.25))"
      ]
    },
    {
      "cell_type": "code",
      "execution_count": null,
      "metadata": {
        "colab": {
          "base_uri": "https://localhost:8080/"
        },
        "id": "bPz0I3gcgD0Z",
        "outputId": "c245485e-d3a7-448c-aa20-22cb9550e1f7"
      },
      "outputs": [
        {
          "name": "stderr",
          "output_type": "stream",
          "text": [
            "/usr/local/lib/python3.8/dist-packages/keras/optimizers/optimizer_v2/rmsprop.py:135: UserWarning: The `lr` argument is deprecated, use `learning_rate` instead.\n",
            "  super(RMSprop, self).__init__(name, **kwargs)\n"
          ]
        }
      ],
      "source": [
        "\n",
        "# Add a Flatten Layer\n",
        "model.add(Flatten())\n",
        "# Add a Dense layer Layer\n",
        "model.add(Dense(512))\n",
        "# Add a Activation Layer\n",
        "model.add(Activation('relu'))\n",
        "# Add a Dropout Layer\n",
        "model.add(Dropout(0.5))\n",
        "# Add the Output Dense Layer\n",
        "model.add(Dense(62, activation='softmax'))\n",
        "\n",
        "# Compile the model\n",
        "model.compile(optimizers.RMSprop(lr=0.0001),\n",
        "              loss=\"categorical_crossentropy\",\n",
        "              metrics=[\"accuracy\"])"
      ]
    },
    {
      "cell_type": "code",
      "execution_count": null,
      "metadata": {
        "colab": {
          "base_uri": "https://localhost:8080/"
        },
        "id": "JeoI_6hugIfa",
        "outputId": "2f6837b5-5c96-4f38-acb9-f19ef3e0a615"
      },
      "outputs": [
        {
          "name": "stdout",
          "output_type": "stream",
          "text": [
            "Epoch 1/50\n",
            "79/79 [==============================] - 133s 2s/step - loss: 4.1383 - accuracy: 0.0164 - val_loss: 4.1274 - val_accuracy: 0.0137\n",
            "Epoch 2/50\n",
            "79/79 [==============================] - 102s 1s/step - loss: 4.1273 - accuracy: 0.0160 - val_loss: 4.1262 - val_accuracy: 0.0137\n",
            "Epoch 3/50\n",
            "79/79 [==============================] - 101s 1s/step - loss: 4.1271 - accuracy: 0.0164 - val_loss: 4.1254 - val_accuracy: 0.0160\n",
            "Epoch 4/50\n",
            "79/79 [==============================] - 102s 1s/step - loss: 4.1212 - accuracy: 0.0164 - val_loss: 4.1206 - val_accuracy: 0.0114\n",
            "Epoch 5/50\n",
            "79/79 [==============================] - 100s 1s/step - loss: 4.1026 - accuracy: 0.0228 - val_loss: 4.0849 - val_accuracy: 0.0457\n",
            "Epoch 6/50\n",
            "79/79 [==============================] - 102s 1s/step - loss: 4.0354 - accuracy: 0.0408 - val_loss: 3.9229 - val_accuracy: 0.0616\n",
            "Epoch 7/50\n",
            "79/79 [==============================] - 100s 1s/step - loss: 3.8699 - accuracy: 0.0701 - val_loss: 3.6036 - val_accuracy: 0.1530\n",
            "Epoch 8/50\n",
            "79/79 [==============================] - 101s 1s/step - loss: 3.6750 - accuracy: 0.1037 - val_loss: 3.3462 - val_accuracy: 0.2146\n",
            "Epoch 9/50\n",
            "79/79 [==============================] - 98s 1s/step - loss: 3.5245 - accuracy: 0.1330 - val_loss: 3.1096 - val_accuracy: 0.2808\n",
            "Epoch 10/50\n",
            "79/79 [==============================] - 101s 1s/step - loss: 3.3102 - accuracy: 0.1806 - val_loss: 2.8587 - val_accuracy: 0.3196\n",
            "Epoch 11/50\n",
            "79/79 [==============================] - 98s 1s/step - loss: 3.0983 - accuracy: 0.2191 - val_loss: 2.6090 - val_accuracy: 0.3721\n",
            "Epoch 12/50\n",
            "79/79 [==============================] - 100s 1s/step - loss: 2.9400 - accuracy: 0.2459 - val_loss: 2.3978 - val_accuracy: 0.4178\n",
            "Epoch 13/50\n",
            "79/79 [==============================] - 101s 1s/step - loss: 2.7459 - accuracy: 0.2839 - val_loss: 2.2382 - val_accuracy: 0.4429\n",
            "Epoch 14/50\n",
            "79/79 [==============================] - 101s 1s/step - loss: 2.6397 - accuracy: 0.3016 - val_loss: 2.1237 - val_accuracy: 0.4589\n",
            "Epoch 15/50\n",
            "79/79 [==============================] - 99s 1s/step - loss: 2.4876 - accuracy: 0.3168 - val_loss: 2.0062 - val_accuracy: 0.4635\n",
            "Epoch 16/50\n",
            "79/79 [==============================] - 98s 1s/step - loss: 2.3547 - accuracy: 0.3648 - val_loss: 1.9218 - val_accuracy: 0.5205\n",
            "Epoch 17/50\n",
            "79/79 [==============================] - 97s 1s/step - loss: 2.2658 - accuracy: 0.3736 - val_loss: 1.7993 - val_accuracy: 0.5388\n",
            "Epoch 18/50\n",
            "79/79 [==============================] - 98s 1s/step - loss: 2.1667 - accuracy: 0.3937 - val_loss: 1.7056 - val_accuracy: 0.5411\n",
            "Epoch 19/50\n",
            "79/79 [==============================] - 101s 1s/step - loss: 2.0339 - accuracy: 0.4381 - val_loss: 1.6165 - val_accuracy: 0.5845\n",
            "Epoch 20/50\n",
            "79/79 [==============================] - 99s 1s/step - loss: 1.9812 - accuracy: 0.4513 - val_loss: 1.5422 - val_accuracy: 0.5890\n",
            "Epoch 21/50\n",
            "79/79 [==============================] - 100s 1s/step - loss: 1.8918 - accuracy: 0.4710 - val_loss: 1.4970 - val_accuracy: 0.6119\n",
            "Epoch 22/50\n",
            "79/79 [==============================] - 99s 1s/step - loss: 1.8200 - accuracy: 0.4938 - val_loss: 1.4633 - val_accuracy: 0.6096\n",
            "Epoch 23/50\n",
            "79/79 [==============================] - 101s 1s/step - loss: 1.7171 - accuracy: 0.5054 - val_loss: 1.4194 - val_accuracy: 0.6142\n",
            "Epoch 24/50\n",
            "79/79 [==============================] - 99s 1s/step - loss: 1.6764 - accuracy: 0.5202 - val_loss: 1.3549 - val_accuracy: 0.6416\n",
            "Epoch 25/50\n",
            "79/79 [==============================] - 100s 1s/step - loss: 1.6306 - accuracy: 0.5394 - val_loss: 1.2952 - val_accuracy: 0.6575\n",
            "Epoch 26/50\n",
            "79/79 [==============================] - 98s 1s/step - loss: 1.5780 - accuracy: 0.5563 - val_loss: 1.2929 - val_accuracy: 0.6461\n",
            "Epoch 27/50\n",
            "79/79 [==============================] - 102s 1s/step - loss: 1.4906 - accuracy: 0.5779 - val_loss: 1.2477 - val_accuracy: 0.6644\n",
            "Epoch 28/50\n",
            "79/79 [==============================] - 99s 1s/step - loss: 1.4495 - accuracy: 0.5883 - val_loss: 1.2142 - val_accuracy: 0.6575\n",
            "Epoch 29/50\n",
            "79/79 [==============================] - 99s 1s/step - loss: 1.4138 - accuracy: 0.5919 - val_loss: 1.1924 - val_accuracy: 0.6735\n",
            "Epoch 30/50\n",
            "79/79 [==============================] - 99s 1s/step - loss: 1.3178 - accuracy: 0.6268 - val_loss: 1.1693 - val_accuracy: 0.6598\n",
            "Epoch 31/50\n",
            "79/79 [==============================] - 99s 1s/step - loss: 1.3392 - accuracy: 0.6115 - val_loss: 1.1761 - val_accuracy: 0.6735\n",
            "Epoch 32/50\n",
            "79/79 [==============================] - 102s 1s/step - loss: 1.2400 - accuracy: 0.6448 - val_loss: 1.1455 - val_accuracy: 0.6781\n",
            "Epoch 33/50\n",
            "79/79 [==============================] - 100s 1s/step - loss: 1.2027 - accuracy: 0.6416 - val_loss: 1.0983 - val_accuracy: 0.6941\n",
            "Epoch 34/50\n",
            "79/79 [==============================] - 102s 1s/step - loss: 1.2153 - accuracy: 0.6424 - val_loss: 1.0824 - val_accuracy: 0.6963\n",
            "Epoch 35/50\n",
            "79/79 [==============================] - 98s 1s/step - loss: 1.1582 - accuracy: 0.6492 - val_loss: 1.0851 - val_accuracy: 0.6895\n",
            "Epoch 36/50\n",
            "79/79 [==============================] - 99s 1s/step - loss: 1.1181 - accuracy: 0.6604 - val_loss: 1.0347 - val_accuracy: 0.7237\n",
            "Epoch 37/50\n",
            "79/79 [==============================] - 101s 1s/step - loss: 1.0779 - accuracy: 0.6784 - val_loss: 1.0220 - val_accuracy: 0.7215\n",
            "Epoch 38/50\n",
            "79/79 [==============================] - 99s 1s/step - loss: 1.0560 - accuracy: 0.6780 - val_loss: 1.0311 - val_accuracy: 0.7032\n",
            "Epoch 39/50\n",
            "79/79 [==============================] - 102s 1s/step - loss: 1.0222 - accuracy: 0.6912 - val_loss: 1.0052 - val_accuracy: 0.7146\n",
            "Epoch 40/50\n",
            "79/79 [==============================] - 102s 1s/step - loss: 1.0181 - accuracy: 0.7020 - val_loss: 1.0089 - val_accuracy: 0.7055\n",
            "Epoch 41/50\n",
            "79/79 [==============================] - 101s 1s/step - loss: 0.9781 - accuracy: 0.7072 - val_loss: 0.9521 - val_accuracy: 0.7283\n",
            "Epoch 42/50\n",
            "79/79 [==============================] - 100s 1s/step - loss: 0.9378 - accuracy: 0.7101 - val_loss: 0.9712 - val_accuracy: 0.7100\n",
            "Epoch 43/50\n",
            "79/79 [==============================] - 102s 1s/step - loss: 0.9333 - accuracy: 0.7105 - val_loss: 0.9550 - val_accuracy: 0.7146\n",
            "Epoch 44/50\n",
            "79/79 [==============================] - 99s 1s/step - loss: 0.9106 - accuracy: 0.7221 - val_loss: 0.9223 - val_accuracy: 0.7374\n",
            "Epoch 45/50\n",
            "79/79 [==============================] - 99s 1s/step - loss: 0.8781 - accuracy: 0.7305 - val_loss: 0.9364 - val_accuracy: 0.7374\n",
            "Epoch 46/50\n",
            "79/79 [==============================] - 99s 1s/step - loss: 0.8435 - accuracy: 0.7377 - val_loss: 0.9230 - val_accuracy: 0.7443\n",
            "Epoch 47/50\n",
            "79/79 [==============================] - 101s 1s/step - loss: 0.8361 - accuracy: 0.7349 - val_loss: 0.9265 - val_accuracy: 0.7237\n",
            "Epoch 48/50\n",
            "79/79 [==============================] - 100s 1s/step - loss: 0.8063 - accuracy: 0.7497 - val_loss: 0.9049 - val_accuracy: 0.7420\n",
            "Epoch 49/50\n",
            "79/79 [==============================] - 100s 1s/step - loss: 0.7762 - accuracy: 0.7613 - val_loss: 0.8986 - val_accuracy: 0.7511\n",
            "Epoch 50/50\n",
            "79/79 [==============================] - 98s 1s/step - loss: 0.7661 - accuracy: 0.7617 - val_loss: 0.8896 - val_accuracy: 0.7283\n"
          ]
        }
      ],
      "source": [
        "# Train the model for 50 epochs\n",
        "history = model.fit(training_data_frame, validation_data=validation_data_frame, epochs=50)"
      ]
    },
    {
      "cell_type": "markdown",
      "metadata": {
        "id": "uUUUhHf4BCxC"
      },
      "source": [
        "# **Visualizing The Accuracy of The Training and Validation of The Model**"
      ]
    },
    {
      "cell_type": "code",
      "execution_count": null,
      "metadata": {
        "colab": {
          "base_uri": "https://localhost:8080/",
          "height": 435
        },
        "id": "iY9yLAS3gPrg",
        "outputId": "2380861a-1aec-421e-91a3-4de4c1c55d17"
      },
      "outputs": [
        {
          "data": {
            "image/png": "[encoded data removed]",
            "text/plain": [
              "<Figure size 1080x1080 with 2 Axes>"
            ]
          },
          "metadata": {},
          "output_type": "display_data"
        }
      ],
      "source": [
        "acc = history.history['accuracy']\n",
        "val_acc = history.history['val_accuracy']\n",
        "loss = history.history['loss']\n",
        "val_loss = history.history['val_loss']\n",
        "\n",
        "epochs_range = range(50)\n",
        "\n",
        "plt.figure(figsize=(15, 15))\n",
        "plt.subplot(2, 2, 1)\n",
        "plt.plot(epochs_range, acc, label='Training Accuracy')\n",
        "plt.plot(epochs_range, val_acc, label='Validation Accuracy')\n",
        "plt.legend(loc='lower right')\n",
        "plt.title('Training and Validation Accuracy')\n",
        "\n",
        "plt.subplot(2, 2, 2)\n",
        "plt.plot(epochs_range, loss, label='Training Loss')\n",
        "plt.plot(epochs_range, val_loss, label='Validation Loss')\n",
        "plt.legend(loc='upper right')\n",
        "plt.title('Training and Validation Loss')\n",
        "plt.show()"
      ]
    },
    {
      "cell_type": "code",
      "execution_count": null,
      "metadata": {
        "id": "WX_dRaipgVHr"
      },
      "outputs": [],
      "source": [
        "# Save the model as model.h5\n",
        "model.save('model.h5')\n",
        "# Load the model\n",
        "model = load_model('model.h5')"
      ]
    },
    {
      "cell_type": "markdown",
      "metadata": {
        "id": "OFA3fQBWBU-X"
      },
      "source": [
        "# **Testing The Final Model**"
      ]
    },
    {
      "cell_type": "code",
      "execution_count": null,
      "metadata": {
        "colab": {
          "background_save": true,
          "base_uri": "https://localhost:8080/",
          "height": 984
        },
        "id": "FCXmnomDgZO6",
        "outputId": "b794605b-f1b2-4658-cd35-732f9f507299"
      },
      "outputs": [
        {
          "name": "stdout",
          "output_type": "stream",
          "text": [
            "Prediction Dict:  {'0': 0, '1': 1, '2': 2, '3': 3, '4': 4, '5': 5, '6': 6, '7': 7, '8': 8, '9': 9, 'A': 10, 'B': 11, 'C': 12, 'D': 13, 'E': 14, 'F': 15, 'G': 16, 'H': 17, 'I': 18, 'J': 19, 'K': 20, 'L': 21, 'M': 22, 'N': 23, 'O': 24, 'P': 25, 'Q': 26, 'R': 27, 'S': 28, 'T': 29, 'U': 30, 'V': 31, 'W': 32, 'X': 33, 'Y': 34, 'Z': 35, 'a': 36, 'b': 37, 'c': 38, 'd': 39, 'e': 40, 'f': 41, 'g': 42, 'h': 43, 'i': 44, 'j': 45, 'k': 46, 'l': 47, 'm': 48, 'n': 49, 'o': 50, 'p': 51, 'q': 52, 'r': 53, 's': 54, 't': 55, 'u': 56, 'v': 57, 'w': 58, 'x': 59, 'y': 60, 'z': 61}\n",
            "1/1 [==============================] - 0s 150ms/step\n",
            "Max index:  [48, 3, 27, 15]\n"
          ]
        },
        {
          "data": {
            "image/png": "[encoded data removed]",
            "text/plain": [
              "<Figure size 432x288 with 1 Axes>"
            ]
          },
          "metadata": {},
          "output_type": "display_data"
        },
        {
          "ename": "TypeError",
          "evalue": "ignored",
          "output_type": "error",
          "traceback": [
            "\u001b[0;31m---------------------------------------------------------------------------\u001b[0m",
            "\u001b[0;31mTypeError\u001b[0m                                 Traceback (most recent call last)",
            "\u001b[0;32m<ipython-input-40-695ec457ce8c>\u001b[0m in \u001b[0;36m<module>\u001b[0;34m\u001b[0m\n\u001b[1;32m     26\u001b[0m     \u001b[0mplt\u001b[0m\u001b[0;34m.\u001b[0m\u001b[0mtitle\u001b[0m\u001b[0;34m(\u001b[0m\u001b[0mclassDict\u001b[0m\u001b[0;34m.\u001b[0m\u001b[0mget\u001b[0m\u001b[0;34m(\u001b[0m\u001b[0mmaxIndex\u001b[0m\u001b[0;34m[\u001b[0m\u001b[0mi\u001b[0m\u001b[0;34m]\u001b[0m\u001b[0;34m,\u001b[0m \u001b[0;34m\"error\"\u001b[0m\u001b[0;34m)\u001b[0m\u001b[0;34m)\u001b[0m\u001b[0;34m\u001b[0m\u001b[0;34m\u001b[0m\u001b[0m\n\u001b[1;32m     27\u001b[0m     \u001b[0;31m# Mostrar la imagen real\u001b[0m\u001b[0;34m\u001b[0m\u001b[0;34m\u001b[0m\u001b[0;34m\u001b[0m\u001b[0m\n\u001b[0;32m---> 28\u001b[0;31m     \u001b[0mplt\u001b[0m\u001b[0;34m.\u001b[0m\u001b[0mimshow\u001b[0m\u001b[0;34m(\u001b[0m\u001b[0mimage\u001b[0m\u001b[0;34m)\u001b[0m\u001b[0;34m\u001b[0m\u001b[0;34m\u001b[0m\u001b[0m\n\u001b[0m\u001b[1;32m     29\u001b[0m     \u001b[0mplt\u001b[0m\u001b[0;34m.\u001b[0m\u001b[0mshow\u001b[0m\u001b[0;34m(\u001b[0m\u001b[0;34m)\u001b[0m\u001b[0;34m\u001b[0m\u001b[0;34m\u001b[0m\u001b[0m\n",
            "\u001b[0;32m/usr/local/lib/python3.8/dist-packages/matplotlib/pyplot.py\u001b[0m in \u001b[0;36mimshow\u001b[0;34m(X, cmap, norm, aspect, interpolation, alpha, vmin, vmax, origin, extent, shape, filternorm, filterrad, imlim, resample, url, data, **kwargs)\u001b[0m\n\u001b[1;32m   2643\u001b[0m         \u001b[0mfilterrad\u001b[0m\u001b[0;34m=\u001b[0m\u001b[0;36m4.0\u001b[0m\u001b[0;34m,\u001b[0m \u001b[0mimlim\u001b[0m\u001b[0;34m=\u001b[0m\u001b[0mcbook\u001b[0m\u001b[0;34m.\u001b[0m\u001b[0mdeprecation\u001b[0m\u001b[0;34m.\u001b[0m\u001b[0m_deprecated_parameter\u001b[0m\u001b[0;34m,\u001b[0m\u001b[0;34m\u001b[0m\u001b[0;34m\u001b[0m\u001b[0m\n\u001b[1;32m   2644\u001b[0m         resample=None, url=None, *, data=None, **kwargs):\n\u001b[0;32m-> 2645\u001b[0;31m     __ret = gca().imshow(\n\u001b[0m\u001b[1;32m   2646\u001b[0m         \u001b[0mX\u001b[0m\u001b[0;34m,\u001b[0m \u001b[0mcmap\u001b[0m\u001b[0;34m=\u001b[0m\u001b[0mcmap\u001b[0m\u001b[0;34m,\u001b[0m \u001b[0mnorm\u001b[0m\u001b[0;34m=\u001b[0m\u001b[0mnorm\u001b[0m\u001b[0;34m,\u001b[0m \u001b[0maspect\u001b[0m\u001b[0;34m=\u001b[0m\u001b[0maspect\u001b[0m\u001b[0;34m,\u001b[0m\u001b[0;34m\u001b[0m\u001b[0;34m\u001b[0m\u001b[0m\n\u001b[1;32m   2647\u001b[0m         \u001b[0minterpolation\u001b[0m\u001b[0;34m=\u001b[0m\u001b[0minterpolation\u001b[0m\u001b[0;34m,\u001b[0m \u001b[0malpha\u001b[0m\u001b[0;34m=\u001b[0m\u001b[0malpha\u001b[0m\u001b[0;34m,\u001b[0m \u001b[0mvmin\u001b[0m\u001b[0;34m=\u001b[0m\u001b[0mvmin\u001b[0m\u001b[0;34m,\u001b[0m\u001b[0;34m\u001b[0m\u001b[0;34m\u001b[0m\u001b[0m\n",
            "\u001b[0;32m/usr/local/lib/python3.8/dist-packages/matplotlib/__init__.py\u001b[0m in \u001b[0;36minner\u001b[0;34m(ax, data, *args, **kwargs)\u001b[0m\n\u001b[1;32m   1563\u001b[0m     \u001b[0;32mdef\u001b[0m \u001b[0minner\u001b[0m\u001b[0;34m(\u001b[0m\u001b[0max\u001b[0m\u001b[0;34m,\u001b[0m \u001b[0;34m*\u001b[0m\u001b[0margs\u001b[0m\u001b[0;34m,\u001b[0m \u001b[0mdata\u001b[0m\u001b[0;34m=\u001b[0m\u001b[0;32mNone\u001b[0m\u001b[0;34m,\u001b[0m \u001b[0;34m**\u001b[0m\u001b[0mkwargs\u001b[0m\u001b[0;34m)\u001b[0m\u001b[0;34m:\u001b[0m\u001b[0;34m\u001b[0m\u001b[0;34m\u001b[0m\u001b[0m\n\u001b[1;32m   1564\u001b[0m         \u001b[0;32mif\u001b[0m \u001b[0mdata\u001b[0m \u001b[0;32mis\u001b[0m \u001b[0;32mNone\u001b[0m\u001b[0;34m:\u001b[0m\u001b[0;34m\u001b[0m\u001b[0;34m\u001b[0m\u001b[0m\n\u001b[0;32m-> 1565\u001b[0;31m             \u001b[0;32mreturn\u001b[0m \u001b[0mfunc\u001b[0m\u001b[0;34m(\u001b[0m\u001b[0max\u001b[0m\u001b[0;34m,\u001b[0m \u001b[0;34m*\u001b[0m\u001b[0mmap\u001b[0m\u001b[0;34m(\u001b[0m\u001b[0msanitize_sequence\u001b[0m\u001b[0;34m,\u001b[0m \u001b[0margs\u001b[0m\u001b[0;34m)\u001b[0m\u001b[0;34m,\u001b[0m \u001b[0;34m**\u001b[0m\u001b[0mkwargs\u001b[0m\u001b[0;34m)\u001b[0m\u001b[0;34m\u001b[0m\u001b[0;34m\u001b[0m\u001b[0m\n\u001b[0m\u001b[1;32m   1566\u001b[0m \u001b[0;34m\u001b[0m\u001b[0m\n\u001b[1;32m   1567\u001b[0m         \u001b[0mbound\u001b[0m \u001b[0;34m=\u001b[0m \u001b[0mnew_sig\u001b[0m\u001b[0;34m.\u001b[0m\u001b[0mbind\u001b[0m\u001b[0;34m(\u001b[0m\u001b[0max\u001b[0m\u001b[0;34m,\u001b[0m \u001b[0;34m*\u001b[0m\u001b[0margs\u001b[0m\u001b[0;34m,\u001b[0m \u001b[0;34m**\u001b[0m\u001b[0mkwargs\u001b[0m\u001b[0;34m)\u001b[0m\u001b[0;34m\u001b[0m\u001b[0;34m\u001b[0m\u001b[0m\n",
            "\u001b[0;32m/usr/local/lib/python3.8/dist-packages/matplotlib/cbook/deprecation.py\u001b[0m in \u001b[0;36mwrapper\u001b[0;34m(*args, **kwargs)\u001b[0m\n\u001b[1;32m    356\u001b[0m                 \u001b[0;34mf\"%(removal)s.  If any parameter follows {name!r}, they \"\u001b[0m\u001b[0;34m\u001b[0m\u001b[0;34m\u001b[0m\u001b[0m\n\u001b[1;32m    357\u001b[0m                 f\"should be pass as keyword, not positionally.\")\n\u001b[0;32m--> 358\u001b[0;31m         \u001b[0;32mreturn\u001b[0m \u001b[0mfunc\u001b[0m\u001b[0;34m(\u001b[0m\u001b[0;34m*\u001b[0m\u001b[0margs\u001b[0m\u001b[0;34m,\u001b[0m \u001b[0;34m**\u001b[0m\u001b[0mkwargs\u001b[0m\u001b[0;34m)\u001b[0m\u001b[0;34m\u001b[0m\u001b[0;34m\u001b[0m\u001b[0m\n\u001b[0m\u001b[1;32m    359\u001b[0m \u001b[0;34m\u001b[0m\u001b[0m\n\u001b[1;32m    360\u001b[0m     \u001b[0;32mreturn\u001b[0m \u001b[0mwrapper\u001b[0m\u001b[0;34m\u001b[0m\u001b[0;34m\u001b[0m\u001b[0m\n",
            "\u001b[0;32m/usr/local/lib/python3.8/dist-packages/matplotlib/cbook/deprecation.py\u001b[0m in \u001b[0;36mwrapper\u001b[0;34m(*args, **kwargs)\u001b[0m\n\u001b[1;32m    356\u001b[0m                 \u001b[0;34mf\"%(removal)s.  If any parameter follows {name!r}, they \"\u001b[0m\u001b[0;34m\u001b[0m\u001b[0;34m\u001b[0m\u001b[0m\n\u001b[1;32m    357\u001b[0m                 f\"should be pass as keyword, not positionally.\")\n\u001b[0;32m--> 358\u001b[0;31m         \u001b[0;32mreturn\u001b[0m \u001b[0mfunc\u001b[0m\u001b[0;34m(\u001b[0m\u001b[0;34m*\u001b[0m\u001b[0margs\u001b[0m\u001b[0;34m,\u001b[0m \u001b[0;34m**\u001b[0m\u001b[0mkwargs\u001b[0m\u001b[0;34m)\u001b[0m\u001b[0;34m\u001b[0m\u001b[0;34m\u001b[0m\u001b[0m\n\u001b[0m\u001b[1;32m    359\u001b[0m \u001b[0;34m\u001b[0m\u001b[0m\n\u001b[1;32m    360\u001b[0m     \u001b[0;32mreturn\u001b[0m \u001b[0mwrapper\u001b[0m\u001b[0;34m\u001b[0m\u001b[0;34m\u001b[0m\u001b[0m\n",
            "\u001b[0;32m/usr/local/lib/python3.8/dist-packages/matplotlib/axes/_axes.py\u001b[0m in \u001b[0;36mimshow\u001b[0;34m(self, X, cmap, norm, aspect, interpolation, alpha, vmin, vmax, origin, extent, shape, filternorm, filterrad, imlim, resample, url, **kwargs)\u001b[0m\n\u001b[1;32m   5624\u001b[0m                               resample=resample, **kwargs)\n\u001b[1;32m   5625\u001b[0m \u001b[0;34m\u001b[0m\u001b[0m\n\u001b[0;32m-> 5626\u001b[0;31m         \u001b[0mim\u001b[0m\u001b[0;34m.\u001b[0m\u001b[0mset_data\u001b[0m\u001b[0;34m(\u001b[0m\u001b[0mX\u001b[0m\u001b[0;34m)\u001b[0m\u001b[0;34m\u001b[0m\u001b[0;34m\u001b[0m\u001b[0m\n\u001b[0m\u001b[1;32m   5627\u001b[0m         \u001b[0mim\u001b[0m\u001b[0;34m.\u001b[0m\u001b[0mset_alpha\u001b[0m\u001b[0;34m(\u001b[0m\u001b[0malpha\u001b[0m\u001b[0;34m)\u001b[0m\u001b[0;34m\u001b[0m\u001b[0;34m\u001b[0m\u001b[0m\n\u001b[1;32m   5628\u001b[0m         \u001b[0;32mif\u001b[0m \u001b[0mim\u001b[0m\u001b[0;34m.\u001b[0m\u001b[0mget_clip_path\u001b[0m\u001b[0;34m(\u001b[0m\u001b[0;34m)\u001b[0m \u001b[0;32mis\u001b[0m \u001b[0;32mNone\u001b[0m\u001b[0;34m:\u001b[0m\u001b[0;34m\u001b[0m\u001b[0;34m\u001b[0m\u001b[0m\n",
            "\u001b[0;32m/usr/local/lib/python3.8/dist-packages/matplotlib/image.py\u001b[0m in \u001b[0;36mset_data\u001b[0;34m(self, A)\u001b[0m\n\u001b[1;32m    691\u001b[0m         if (self._A.dtype != np.uint8 and\n\u001b[1;32m    692\u001b[0m                 not np.can_cast(self._A.dtype, float, \"same_kind\")):\n\u001b[0;32m--> 693\u001b[0;31m             raise TypeError(\"Image data of dtype {} cannot be converted to \"\n\u001b[0m\u001b[1;32m    694\u001b[0m                             \"float\".format(self._A.dtype))\n\u001b[1;32m    695\u001b[0m \u001b[0;34m\u001b[0m\u001b[0m\n",
            "\u001b[0;31mTypeError\u001b[0m: Image data of dtype object cannot be converted to float"
          ]
        },
        {
          "data": {
            "image/png": "[encoded data removed]",
            "text/plain": [
              "<Figure size 432x288 with 1 Axes>"
            ]
          },
          "metadata": {},
          "output_type": "display_data"
        }
      ],
      "source": [
        "# Imprimir los índices de clase\n",
        "print(\"Prediction Dict: \", training_data_frame.class_indices)\n",
        "# Predecir a partir de los datos de prueba \n",
        "pred = model.predict(test_data_frame)\n",
        "# Crear un diccionario de clases/etiquetas\n",
        "classDict = {\n",
        "            0: \"0\", 1: \"1\", 2: \"2\", 3: \"3\", 4: \"4\", 5: \"5\", 6: \"6\", 7: \"7\", 8: \"8\", 9: \"9\", 10: \"A\",\n",
        "            11: \"B\", 12: \"C\", 13: \"D\", 14: \"E\", 15: \"F\", 16: \"G\", 17: \"H\", 18: \"I\", 19: \"J\", 20: \"K\",\n",
        "            21: \"L\", 22: \"M\", 23: \"N\", 24: \"O\", 25: \"P\", 26: \"Q\", 27: \"R\", 28: \"S\", 29: \"T\", 30: \"U\",\n",
        "            31: \"V\", 32: \"W\", 33: \"X\", 34: \"Y\", 35: \"Z\", 36: \"a\", 37: \"b\", 38: \"c\", 39: \"d\", 40: \"e\",\n",
        "            41: \"f\", 42: \"g\", 43: \"h\", 44: \"i\", 45: \"j\", 46: \"k\", 47: \"l\", 48: \"m\", 49: \"n\", 50: \"o\",\n",
        "            51: \"p\", 52: \"q\", 53: \"r\", 54: \"s\", 55: \"t\", 56: \"u\", 57: \"v\", 58: \"w\", 59: \"x\", 60: \"y\",\n",
        "            61: \"z\"}\n",
        "\n",
        "# Crea un marco de datos que contenga la probabilidad de cada clase\n",
        "outputDf = pd.DataFrame(pred)\n",
        "# Obtener el índice de la probabilidad máxima del marco de datos de salida\n",
        "maxIndex = list(outputDf.idxmax(axis=1))\n",
        "# Imprimir el índice máximo\n",
        "print(\"Max index: \", maxIndex)\n",
        "# Hacer un bucle en el rango de la longitud de los datos de prueba (5)\n",
        "for i in range(len(test_set)):\n",
        "    # Leer la imagen \n",
        "    image = cv.imread(DATADIR + '/' + test_set.at[i, 'image'])\n",
        "    # El título del gráfico que es la etiqueta prevista\n",
        "    plt.title(classDict.get(maxIndex[i], \"error\"))\n",
        "    # Mostrar la imagen real\n",
        "    plt.imshow(image)\n",
        "    plt.show()"
      ]
    }
  ],
  "metadata": {
    "colab": {
      "provenance": [],
      "include_colab_link": true
    },
    "kernelspec": {
      "display_name": "Python 3",
      "name": "python3"
    },
    "language_info": {
      "name": "python"
    }
  },
  "nbformat": 4,
  "nbformat_minor": 0
}